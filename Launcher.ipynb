{
 "cells": [
  {
   "cell_type": "code",
   "execution_count": 1,
   "metadata": {},
   "outputs": [
    {
     "data": {
      "application/javascript": [
       "$('<style>#appmode-leave{display:none}</style>').appendTo('head');\n"
      ],
      "text/plain": [
       "<IPython.core.display.Javascript object>"
      ]
     },
     "metadata": {},
     "output_type": "display_data"
    }
   ],
   "source": [
    "%%javascript\n",
    "$('<style>#appmode-leave{display:none}</style>').appendTo('head');"
   ]
  },
  {
   "cell_type": "code",
   "execution_count": 2,
   "metadata": {},
   "outputs": [],
   "source": [
    "import ipywidgets as w\n",
    "import nanohub.remote as nr\n",
    "import os\n",
    "\n",
    "def FileLink( filepath, path=\"files\"):\n",
    "   global jupyter_notebook_url\n",
    "   import os\n",
    "   if os.path.exists(filepath):\n",
    "       bp = os.readlink('/proc/%s/cwd' % os.environ['JPY_PARENT_PID'])\n",
    "       ap = os.path.abspath( filepath )\n",
    "       if ap.startswith(bp):\n",
    "           link =  \"/\".join(jupyter_notebook_url.split(\"/\",8)[:7])\n",
    "           link += \"/\" + path + \"/\" + os.path.relpath(ap,bp)\n",
    "           return link\n",
    "       else:\n",
    "           raise Exception(\"Dont have access to the file\")\n",
    "   else:\n",
    "       raise Exception(filepath + \" does not exists\")\n",
    "        \n"
   ]
  },
  {
   "cell_type": "code",
   "execution_count": 3,
   "metadata": {},
   "outputs": [],
   "source": [
    "auth_data = {'grant_type' : 'tool'}\n",
    "with open(os.environ[\"SESSIONDIR\"]+\"/resources\") as file:\n",
    "    lines = [line.split(\" \", 1) for line in file.readlines()]\n",
    "    properties = {line[0].strip(): line[1].strip() for line in lines if len(line)==2}\n",
    "    auth_data[\"sessiontoken\"] = properties[\"session_token\"]\n",
    "    auth_data[\"sessionnum\"] = properties[\"sessionid\"]\n",
    "session = nr.Session(auth_data, url='https://cdmhub.org/api/')\n",
    "req_json = session.requestGet('/projects/list?verbose=1')\n",
    "req_json = req_json.json()\n",
    "projects = {}\n",
    "for p in req_json['projects']:\n",
    "    #if 'a3dconsortium' in p['alias']:\n",
    "    if 'cams' in p['alias']:\n",
    "        path = '/data/projects/' + p['alias'] + \"/files\"\n",
    "        if os.path.exists(path):\n",
    "            p['path'] = path\n",
    "            projects[p['alias']] = p\n",
    "req_json = session.requestGet('/members/' + str(os.getuid()))\n",
    "data = req_json.json()\n",
    "data = data['profile']"
   ]
  },
  {
   "cell_type": "code",
   "execution_count": 4,
   "metadata": {},
   "outputs": [],
   "source": [
    "resultsimage = w.Image(value = open(\"SimResults.png\", 'rb').read(), height=480)\n",
    "resultsbutton = w.HTML(value='''\n",
    "   <a target=\"blank\" href=\"'''  + FileLink('a3dWizard.ipynb', \"apps\") + '''\">\n",
    "   <button style='background-color:#2B5E91;\n",
    "   border:none;color:white;\n",
    "   border-radius: 6px;\n",
    "   padding:6px;\n",
    "   text-align: center;\n",
    "   text-decoration:none;\n",
    "   display:inline-block;\n",
    "   font-size: 16px;\n",
    "   margin: 4px 2px;\n",
    "   width:99%'>\n",
    "   View Simulation Results\n",
    "   </button></a>\n",
    "''')\n",
    "results = w.VBox(\n",
    "    [\n",
    "        resultsimage,\n",
    "        resultsbutton\n",
    "    ],\n",
    "    layout = w.Layout(width=\"50%\")\n",
    ")\n"
   ]
  },
  {
   "cell_type": "code",
   "execution_count": 5,
   "metadata": {},
   "outputs": [],
   "source": [
    "jobsimage = w.Image(value = open(\"ProcessSims.png\", 'rb').read(), height=\"480\")\n",
    "jobsbutton = w.HTML(value='''\n",
    "   <a target=\"blank\" href=\"'''  + FileLink('SubmitJobs.ipynb', \"apps\") + '''\">\n",
    "   <button style='background-color:#2B5E91;\n",
    "   border:none;color:white;\n",
    "   border-radius: 6px;\n",
    "   padding:6px;\n",
    "   text-align: center;\n",
    "   text-decoration:none;\n",
    "   display:inline-block;\n",
    "   font-size: 16px;\n",
    "   margin: 4px 2px;\n",
    "   width:99%'>\n",
    "   Create New Process Simulation\n",
    "   </button></a>\n",
    "''')\n",
    "jobs = w.VBox(\n",
    "    [\n",
    "        jobsimage,\n",
    "        jobsbutton\n",
    "    ],\n",
    "    layout = w.Layout(width=\"50%\")\n",
    "    \n",
    ")\n"
   ]
  },
  {
   "cell_type": "code",
   "execution_count": 13,
   "metadata": {},
   "outputs": [],
   "source": [
    "user = w.HTML(value='''\n",
    "   <div style='background-color:#FFF;\n",
    "   border-radius: 6px;\n",
    "   border: 1px solid #DDD;\n",
    "   padding:6px;\n",
    "   text-align: left;\n",
    "   text-decoration:none;\n",
    "   display:inline-block;\n",
    "   margin: 4px 2px;\n",
    "   width:99%;\n",
    "   height:99%'>\n",
    "   <img src=''' + data['picture']['thumb'].replace(\"https://cdmhub.org/\",\"\") + ''' width=\"200\" height=\"200\"></img>\n",
    "   <p style='padding:20px;border: 1px solid #DDD;'>'''+data['name']+'''</br>\n",
    "   '''+data['organization']+'''</br>\n",
    "   '''+data['email']+'''</p>\n",
    "   </div>\n",
    "''')"
   ]
  },
  {
   "cell_type": "code",
   "execution_count": null,
   "metadata": {},
   "outputs": [],
   "source": []
  },
  {
   "cell_type": "code",
   "execution_count": 7,
   "metadata": {},
   "outputs": [],
   "source": [
    "children = []\n",
    "colors = ['#912b5e','#915e2b','#2b915e','#2b5e91']\n",
    "c=0\n",
    "for i, p in projects.items():\n",
    "    children.append(w.HTML(value='''\n",
    "        <div style='\n",
    "        background-color:#FFF;\n",
    "        border:1px solid #AAA;\n",
    "        color:white;\n",
    "        border-radius: 6px;\n",
    "        padding:0px;\n",
    "        margin:10px\n",
    "        text-align: left;\n",
    "        text-decoration:none;\n",
    "        display:inline-block;\n",
    "        font-size: 16px;\n",
    "        margin: 4px 2px;\n",
    "        min-width:320px;width:320px; display:flex'>\n",
    "        <div style=\"flex:1;padding:10px\"><a target=\"blank\" href=\"'''  + projects[i]['uri'] + '''\">''' + projects[i]['title'] +'''</a></div>\n",
    "        <div style=\"background-color:''' + colors[c % 4] + ''';width:80px\" >&nbsp;</div>\n",
    "</div>\n",
    "'''))\n",
    "    c+=1"
   ]
  },
  {
   "cell_type": "code",
   "execution_count": null,
   "metadata": {},
   "outputs": [],
   "source": []
  },
  {
   "cell_type": "code",
   "execution_count": 8,
   "metadata": {},
   "outputs": [],
   "source": [
    "dividerproject = w.HTML(value='''\n",
    "   <div style='background-color:#2B5E91;\n",
    "   border:none;color:white;\n",
    "   border-radius: 6px;\n",
    "   padding:6px;\n",
    "   text-align: left;\n",
    "   text-decoration:none;\n",
    "   display:inline-block;\n",
    "   font-size: 16px;\n",
    "   margin: 4px 2px;\n",
    "   width:99%'>\n",
    "   <img src=''' + FileLink('./Additive3D.png') + ''' width=\"32\"></img>\n",
    "   PROJECTS\n",
    "   </div>\n",
    "''')"
   ]
  },
  {
   "cell_type": "code",
   "execution_count": 9,
   "metadata": {},
   "outputs": [],
   "source": [
    "dividermodule = w.HTML(value='''\n",
    "   <div style='background-color:#2B5E91;\n",
    "   border:none;color:white;\n",
    "   border-radius: 6px;\n",
    "   padding:6px;\n",
    "   text-align: left;\n",
    "   text-decoration:none;\n",
    "   display:inline-block;\n",
    "   font-size: 16px;\n",
    "   margin: 4px 2px;\n",
    "   width:99%'>\n",
    "   <img src=''' + FileLink('./Additive3D.png') + ''' width=\"32\"></img>\n",
    "   MODULES\n",
    "   </div>\n",
    "''')"
   ]
  },
  {
   "cell_type": "code",
   "execution_count": 10,
   "metadata": {},
   "outputs": [],
   "source": [
    "dividerheader = w.HTML(value='''\n",
    "   <div style='background-color:#2B5E91;\n",
    "   border:none;color:white;\n",
    "   border-radius: 6px;\n",
    "   padding:6px;\n",
    "   text-align: left;\n",
    "   text-decoration:none;\n",
    "   display:inline-block;\n",
    "   font-size: 16px;\n",
    "   margin: 4px 2px;\n",
    "   width:99%'>\n",
    "   <img src=''' + FileLink('./logoA3D.png') + ''' width=\"200\"></img>\n",
    "   </div>\n",
    "''')"
   ]
  },
  {
   "cell_type": "code",
   "execution_count": 11,
   "metadata": {},
   "outputs": [
    {
     "data": {
      "application/vnd.jupyter.widget-view+json": {
       "model_id": "e071439319c24a21bc48f099fa23c5ba",
       "version_major": 2,
       "version_minor": 0
      },
      "text/plain": [
       "HTML(value='\\n   <div style=\\'background-color:#FFFF;\\n   color:#000;\\n   border:1px solid #AAA;\\n   border-ra…"
      ]
     },
     "metadata": {},
     "output_type": "display_data"
    }
   ],
   "source": [
    "dividerfooter = w.HTML(value='''\n",
    "   <div style='background-color:#FFFF;\n",
    "   color:#000;\n",
    "   border:1px solid #AAA;\n",
    "   border-radius: 6px;\n",
    "   padding:0px;\n",
    "   text-align: center;\n",
    "   text-decoration:none;\n",
    "   display:inline-block;\n",
    "   font-size: 14px;\n",
    "   margin: 4px 2px;\n",
    "   display:flex;\n",
    "   width:99%'>\n",
    "       <div style=\"flex:1\"><a target=\"blank\" href=\"https://cdmhub.org/groups/camsconsortium/forum/suggestions-for-additive3d/faq---additive3d\"><img src=''' + FileLink('./FAQ.png') + ''' width=\"40\"></img>FAQ</a></div>\n",
    "       <div style=\"flex:1\"><a target=\"blank\" href=\"https://cdmhub.org/groups/camsconsortium/forum/suggestions-for-additive3d/report-technical-issues\"><img src=''' + FileLink('./TechnicalIssuesLogo.png') + ''' width=\"40\"></img>Report Technical Issues</a></div>\n",
    "       <div style=\"flex:1\"><a target=\"blank\" href=\"https://cdmhub.org/groups/camsconsortium/collections\"><img src=''' + FileLink('LiteratureLogo.png') + ''' width=\"40\"></img>Technical Resources</a></div>\n",
    "   </div>\n",
    "''')\n",
    "dividerfooter"
   ]
  },
  {
   "cell_type": "code",
   "execution_count": 14,
   "metadata": {},
   "outputs": [
    {
     "data": {
      "application/vnd.jupyter.widget-view+json": {
       "model_id": "bed2e5b097064dd5b5128eb48bd3f95e",
       "version_major": 2,
       "version_minor": 0
      },
      "text/plain": [
       "VBox(children=(HTML(value='\\n   <div style=\\'background-color:#2B5E91;\\n   border:none;color:white;\\n   border…"
      ]
     },
     "metadata": {},
     "output_type": "display_data"
    }
   ],
   "source": [
    "\n",
    "box_layout = w.Layout(overflow='scroll hidden',\n",
    "                    width='100%',\n",
    "                    height='',\n",
    "                    display='flex')\n",
    "w.VBox([\n",
    "    dividerheader,\n",
    "    w.HBox([\n",
    "        user,\n",
    "        w.VBox([\n",
    "            dividermodule,\n",
    "            w.HBox(children),\n",
    "            dividerproject,\n",
    "            w.HBox([jobs,results], layout=box_layout)\n",
    "        ])\n",
    "    ]),\n",
    "    dividerfooter\n",
    "])"
   ]
  },
  {
   "cell_type": "code",
   "execution_count": null,
   "metadata": {},
   "outputs": [],
   "source": []
  },
  {
   "cell_type": "code",
   "execution_count": null,
   "metadata": {},
   "outputs": [],
   "source": []
  },
  {
   "cell_type": "code",
   "execution_count": null,
   "metadata": {},
   "outputs": [],
   "source": []
  }
 ],
 "metadata": {
  "kernelspec": {
   "display_name": "Python 3",
   "language": "python",
   "name": "python3"
  },
  "language_info": {
   "codemirror_mode": {
    "name": "ipython",
    "version": 3
   },
   "file_extension": ".py",
   "mimetype": "text/x-python",
   "name": "python",
   "nbconvert_exporter": "python",
   "pygments_lexer": "ipython3",
   "version": "3.8.5"
  }
 },
 "nbformat": 4,
 "nbformat_minor": 5
}
