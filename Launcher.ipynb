{
 "cells": [
  {
   "cell_type": "code",
   "execution_count": null,
   "metadata": {},
   "outputs": [],
   "source": [
    "%%javascript\n",
    "$('<style>#appmode-leave{display:none}</style>').appendTo('head');"
   ]
  },
  {
   "cell_type": "code",
   "execution_count": null,
   "metadata": {},
   "outputs": [],
   "source": [
    "from nanohub.uidl.ipywidgets import buildJSX\n",
    "import ipywidgets as w\n",
    "import nanohub.remote as nr\n",
    "import os\n",
    "\n",
    "def FileLink( filepath, path=\"files\"):\n",
    "   global jupyter_notebook_url\n",
    "   import os\n",
    "   if os.path.exists(filepath):\n",
    "       bp = os.readlink('/proc/%s/cwd' % os.environ['JPY_PARENT_PID'])\n",
    "       ap = os.path.abspath( filepath )\n",
    "       if ap.startswith(bp):\n",
    "           link =  \"/\".join(jupyter_notebook_url.split(\"/\",8)[:7])\n",
    "           link += \"/\" + path + \"/\" + os.path.relpath(ap,bp)\n",
    "           return link\n",
    "       else:\n",
    "           raise Exception(\"Dont have access to the file\")\n",
    "   else:\n",
    "       raise Exception(filepath + \" does not exists\")\n",
    "        \n"
   ]
  },
  {
   "cell_type": "code",
   "execution_count": null,
   "metadata": {},
   "outputs": [],
   "source": [
    "Divider = buildJSX('''\n",
    "<Material.AppBar position=\"relative\" style=\"{style:object({})}\">\n",
    "<Material.Toolbar variant=\"dense\">\n",
    "<img src=\"{image:string( )}\"></img>\n",
    "<Material.Typography variant=\"subtitle1\" noWrap=\"false\" component=\"div\">\n",
    "<div style=\"text-transform:uppercase\">{title:string(asd)}</div>\n",
    "</Material.Typography>\n",
    "</Material.Toolbar>\n",
    "</Material.AppBar>\n",
    "''', debugger=False);\n"
   ]
  },
  {
   "cell_type": "code",
   "execution_count": null,
   "metadata": {},
   "outputs": [],
   "source": [
    "DashboardCard = buildJSX('''\n",
    "<Material.Card>\n",
    "  <Material.CardMedia\n",
    "    image=\"{image:string(default.jpg)}\"\n",
    "    title=\"{image_title:string(default)}\"\n",
    "    style=\"{image_style:object({})}\"\n",
    "  >\n",
    "  </Material.CardMedia>\n",
    "  <Material.CardContent>\n",
    "    <Material.Typography color=\"textSecondary\">\n",
    "      {title:string(default)}\n",
    "    </Material.Typography>\n",
    "    <Material.Typography component=\"p\" variant=\"body2\">\n",
    "      {description:string( )}\n",
    "    </Material.Typography>\n",
    "  </Material.CardContent>\n",
    "  <Material.CardActions>\n",
    "    <a target=\"blank\" href=\"{url:string('/')}\">{url_description:string( )}</a>\n",
    "  </Material.CardActions>\n",
    "</Material.Card>\n",
    "''', debugger=False);\n"
   ]
  },
  {
   "cell_type": "code",
   "execution_count": null,
   "metadata": {},
   "outputs": [],
   "source": [
    "UserCard = buildJSX('''\n",
    "<Material.Card>\n",
    "  <Material.CardMedia\n",
    "    image=\"{image:string(default.jpg)}\"\n",
    "    style=\"{image_style:object({})}\"\n",
    "  >\n",
    "  </Material.CardMedia>\n",
    "  <Material.CardContent>\n",
    "    <Material.Typography color=\"textSecondary\">\n",
    "      {name:string(default)}\n",
    "    </Material.Typography>\n",
    "    <Material.Typography component=\"p\" variant=\"body2\">\n",
    "      {organization:string( )}\n",
    "    </Material.Typography>\n",
    "    <Material.Typography component=\"p\" variant=\"body2\">\n",
    "      {email:string( )}\n",
    "    </Material.Typography>\n",
    "  </Material.CardContent>\n",
    "</Material.Card>\n",
    "''', debugger=False);\n"
   ]
  },
  {
   "cell_type": "code",
   "execution_count": null,
   "metadata": {},
   "outputs": [],
   "source": [
    "ProjectCard = buildJSX('''\n",
    "<Material.Card variant=\"outlined\" style=\"display:flex;width:320px\">\n",
    "  <Material.CardContent>\n",
    "    <Material.Typography color=\"textSecondary\">\n",
    "      <a target=\"blank\" href=\"{url:string('/')}\">{title:string(default)}</a>\n",
    "    </Material.Typography>\n",
    "    <Material.Typography component=\"p\" variant=\"body2\">\n",
    "      {owner:string( )}\n",
    "    </Material.Typography>\n",
    "    <Material.Typography component=\"p\" variant=\"body2\">\n",
    "      {description:string( )}\n",
    "    </Material.Typography>\n",
    "  </Material.CardContent>\n",
    "  <div\n",
    "    style=\"{image_style:object({})}\"\n",
    "  >\n",
    "  </div>\n",
    "</Material.Card>\n",
    "''', debugger=False);\n"
   ]
  },
  {
   "cell_type": "code",
   "execution_count": null,
   "metadata": {},
   "outputs": [],
   "source": [
    "auth_data = {'grant_type' : 'tool'}\n",
    "with open(os.environ[\"SESSIONDIR\"]+\"/resources\") as file:\n",
    "    lines = [line.split(\" \", 1) for line in file.readlines()]\n",
    "    properties = {line[0].strip(): line[1].strip() for line in lines if len(line)==2}\n",
    "    auth_data[\"sessiontoken\"] = properties[\"session_token\"]\n",
    "    auth_data[\"sessionnum\"] = properties[\"sessionid\"]\n",
    "session = nr.Session(auth_data, url='https://cdmhub.org/api/')\n",
    "req_json = session.requestGet('/projects/list?verbose=1')\n",
    "req_json = req_json.json()\n",
    "projects = {}\n",
    "for p in req_json['projects']:\n",
    "    #if 'a3dconsortium' in p['alias']:\n",
    "    if 'cams' in p['alias']:\n",
    "        path = '/data/projects/' + p['alias'] + \"/files\"\n",
    "        if os.path.exists(path):\n",
    "            p['path'] = path\n",
    "            projects[p['alias']] = p\n",
    "req_json = session.requestGet('/members/' + str(os.getuid()))\n",
    "data = req_json.json()\n",
    "data = data['profile']"
   ]
  },
  {
   "cell_type": "code",
   "execution_count": null,
   "metadata": {},
   "outputs": [],
   "source": [
    "results = DashboardCard(\n",
    "    image=\"https://images.unsplash.com/photo-1574656365304-8fc1be04a3bd?ixlib=rb-1.2.1&ixid=MnwxMjA3fDB8MHxzZWFyY2h8OHx8Y29tcG9zaXRlfGVufDB8fDB8fA%3D%3D&auto=format&fit=crop&w=500&q=60\",\n",
    "    image_style = {\"height\":\"200px\"},\n",
    "    title = \"VIEW RESULTS\",\n",
    "    description = \"Lorem ipsum dolor sit amet, consectetur adipiscing elit. Nullam molestie arcu ligula. Curabitur nec enim ullamcorper, mollis sem eu, luctus nibh. Cras porttitor dolor nunc, eu egestas sem pharetra non. Integer sed posuere neque. Integer posuere interdum ipsum, sit amet fermentum nulla dictum eu. Vestibulum mollis at turpis nec auctor.\",\n",
    "    url = FileLink('a3dWizard.ipynb', \"apps\"),\n",
    "    url_description = \"OPEN VISUALIZATION MODULE ..\",\n",
    "    layout = w.Layout(width=\"100%\")\n",
    ")\n"
   ]
  },
  {
   "cell_type": "code",
   "execution_count": null,
   "metadata": {},
   "outputs": [],
   "source": [
    "jobs = DashboardCard(\n",
    "    image=\"https://images.unsplash.com/photo-1611567434593-6552b11d1b02?ixlib=rb-1.2.1&ixid=MnwxMjA3fDB8MHxzZWFyY2h8MXx8cG9seW1lcnxlbnwwfHwwfHw%3D&auto=format&fit=crop&w=500&q=60\",\n",
    "    image_style = {\"height\":\"200px\"},\n",
    "    title = \"NEW JOBS\",\n",
    "    description = \"Nunc at scelerisque tortor. Cras suscipit non lectus at posuere. Vivamus vitae odio eu leo condimentum dictum eget a felis. Phasellus posuere viverra tincidunt. Sed luctus tortor ac gravida mollis\",\n",
    "    url = FileLink('SubmitJobs.ipynb', \"apps\"),\n",
    "    url_description = \"OPEN NEW JOB MODULE ..\",\n",
    "    layout = w.Layout(width=\"100%\")\n",
    ")"
   ]
  },
  {
   "cell_type": "code",
   "execution_count": null,
   "metadata": {},
   "outputs": [],
   "source": [
    "user = UserCard(\n",
    "    image=data['picture']['thumb'].replace(\"https://cdmhub.org/\",\"\"),\n",
    "    image_style = {\"width\":\"200px\", \"height\":\"200px\"},\n",
    "    name = data['name'],\n",
    "    organization = data[\"organization\"],\n",
    "    email = data[\"email\"]\n",
    ")"
   ]
  },
  {
   "cell_type": "code",
   "execution_count": null,
   "metadata": {},
   "outputs": [],
   "source": [
    "children = []\n",
    "colors = ['#912b5e','#915e2b','#2b915e','#2b5e91']\n",
    "c=0\n",
    "for i, p in projects.items():\n",
    "    children.append(ProjectCard(\n",
    "        image_style = {\"width\":\"100px\", \"backgroundColor\":colors[c % 4]},\n",
    "        title = projects[i]['title'],\n",
    "        owner = projects[i]['title'],\n",
    "        description = projects[i]['description'],\n",
    "        url = projects[i]['uri'],\n",
    "    ))\n",
    "    c+=1"
   ]
  },
  {
   "cell_type": "code",
   "execution_count": null,
   "metadata": {},
   "outputs": [],
   "source": [
    "\n",
    "box_layout = w.Layout(overflow='scroll hidden',\n",
    "                    width='100%',\n",
    "                    height='',\n",
    "                    display='flex')\n",
    "w.VBox([\n",
    "    Divider(title = \"\", style={'background-color': '#2B5E91'}, image=FileLink('./logoA3D.png')),\n",
    "    w.HBox([\n",
    "        w.VBox([user], layout = w.Layout(flex=\"1 0 auto\")),\n",
    "        w.VBox([\n",
    "            Divider(title = \"projects\", style={'background-color': '#2B5E91'}, image='data:image/gif;base64,R0lGODlhAQABAAD/ACwAAAAAAQABAAACADs='),\n",
    "            w.HBox(children),\n",
    "            Divider(title = \"Modules\", style={'background-color': '#2B5E91'}, image = 'data:image/gif;base64,R0lGODlhAQABAAD/ACwAAAAAAQABAAACADs='),\n",
    "            w.HBox([jobs,results], layout=box_layout)\n",
    "        ])\n",
    "    ])\n",
    "    \n",
    "])"
   ]
  },
  {
   "cell_type": "code",
   "execution_count": null,
   "metadata": {},
   "outputs": [],
   "source": []
  }
 ],
 "metadata": {
  "kernelspec": {
   "display_name": "Python 3",
   "language": "python",
   "name": "python3"
  },
  "language_info": {
   "codemirror_mode": {
    "name": "ipython",
    "version": 3
   },
   "file_extension": ".py",
   "mimetype": "text/x-python",
   "name": "python",
   "nbconvert_exporter": "python",
   "pygments_lexer": "ipython3",
   "version": "3.8.5"
  }
 },
 "nbformat": 4,
 "nbformat_minor": 5
}
